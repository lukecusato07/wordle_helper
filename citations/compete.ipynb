{
 "cells": [
  {
   "attachments": {},
   "cell_type": "markdown",
   "metadata": {},
   "source": [
    "There are a few other extensions that exist. But these extensions either do not take into consideration the user's guesses, or the extension plays the game for the user.\n",
    "\n",
    "Wordle Suggestions Generator:\n",
    "- Gives user suggestions, but does not allow for interaction\n",
    "\n",
    "Wordle Solver:\n",
    "- Does not allow the user to be in control of the game\n",
    "- The extension inputs the guesses for the user with minimal control over interaction"
   ]
  }
 ],
 "metadata": {
  "language_info": {
   "name": "python"
  },
  "orig_nbformat": 4
 },
 "nbformat": 4,
 "nbformat_minor": 2
}
